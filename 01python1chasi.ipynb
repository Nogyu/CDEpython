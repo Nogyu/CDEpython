{
 "cells": [
  {
   "attachments": {},
   "cell_type": "markdown",
   "metadata": {},
   "source": [
    "## 변수와 자료형\n",
    "\n",
    "파이썬에서 자료형은\n",
    "- 숫자형\n",
    "- 문자열 자료형\n",
    "- 리스트 자료형\n",
    "- 튜플 자료형\n",
    "- 딕셔너리 자료형\n",
    "- 집합 자료형\n",
    "- 불 자료형"
   ]
  },
  {
   "attachments": {},
   "cell_type": "markdown",
   "metadata": {},
   "source": [
    "### 숫자형부터!"
   ]
  },
  {
   "cell_type": "code",
   "execution_count": null,
   "metadata": {},
   "outputs": [],
   "source": [
    "# 정수형\n",
    "a = 123\n",
    "b = -178\n",
    "c = 0\n",
    "print(a)\n",
    "print(b)\n",
    "print(c)"
   ]
  },
  {
   "cell_type": "code",
   "execution_count": null,
   "metadata": {},
   "outputs": [],
   "source": [
    "# 실수형\n",
    "a = 1.2\n",
    "b = -3.45\n",
    "c = 3.2E6 ## 3.2 * 10^6\n",
    "print(a)\n",
    "print(b)\n",
    "print(c)"
   ]
  },
  {
   "cell_type": "code",
   "execution_count": null,
   "metadata": {},
   "outputs": [],
   "source": [
    "# 2진수 16진수\n",
    "a = 0b1001 ## 0b때문에 2진수!\n",
    "b = 0x0f  ## 0x때문에 16진수!\n",
    "print(a)\n",
    "print(b)"
   ]
  },
  {
   "attachments": {},
   "cell_type": "markdown",
   "metadata": {},
   "source": [
    "숫자형을 활용하기 위한 연산자!"
   ]
  },
  {
   "cell_type": "code",
   "execution_count": null,
   "metadata": {},
   "outputs": [],
   "source": [
    "# 4칙연산 +,-,*,/\n",
    "a = 3\n",
    "b = 4\n",
    "print(a+b)\n",
    "print(a-b)\n",
    "print(a*b)\n",
    "print(a/b)\n",
    "\n",
    "# 나눗셈 후 나머지를 구하는 %와 몫을 구하는 //\n",
    "print(b%a) ## 4나누기3의 나머지는 1\n",
    "print(b//a) ## 4나누기3의 몫은 1 즉, 정수값으로!"
   ]
  },
  {
   "attachments": {},
   "cell_type": "markdown",
   "metadata": {},
   "source": [
    "### 문자열 자료형!\n",
    "\n",
    "문자열(String)이란 문자, 단어등으로 구성된 문자들의 집합!"
   ]
  },
  {
   "cell_type": "code",
   "execution_count": null,
   "metadata": {},
   "outputs": [],
   "source": [
    "\"Hello!\"\n",
    "'한글도됨' # \"\"얘랑 ''랑 똑같은데 \"' 이렇게 섞어쓰지 말기\n",
    "\"123\" # 숫자도 따옴표에 쌓여있으면 문자열임!\n",
    "\"\"\"3개로 묶어도 됨\"\"\"\n",
    "'''작은따옴표도 3개 가능'''"
   ]
  },
  {
   "attachments": {},
   "cell_type": "markdown",
   "metadata": {},
   "source": [
    "문자열 나타내는 방식이 4가지나 되는데, 그 이유는 문자열 안에 따옴표 들어갈때!!\n",
    "\n",
    "예를들어 I'm happy를 문자열로 하게 될 때 문제가 생길 수!"
   ]
  },
  {
   "cell_type": "code",
   "execution_count": null,
   "metadata": {},
   "outputs": [],
   "source": [
    "a = \"I'm happy\"\n",
    "print(a)"
   ]
  },
  {
   "cell_type": "code",
   "execution_count": null,
   "metadata": {},
   "outputs": [],
   "source": [
    "a = 'I'm happy'\n",
    "print(a) # 이렇게 쓰면 에러떠요~~"
   ]
  },
  {
   "attachments": {},
   "cell_type": "markdown",
   "metadata": {},
   "source": [
    "만약 여러 줄의 문자열을 만들고 싶으면?"
   ]
  },
  {
   "cell_type": "code",
   "execution_count": null,
   "metadata": {},
   "outputs": [],
   "source": [
    "a = \"C\\nD\\nE\" ## 이렇게 \\n으로 줄 구분함\n",
    "print(a) "
   ]
  },
  {
   "cell_type": "code",
   "execution_count": null,
   "metadata": {},
   "outputs": [],
   "source": [
    "# 근데 위에처럼 하면 보기 불편하니까 따옴표 세개 쓰기\n",
    "a = \"\"\"\n",
    "C\n",
    "D\n",
    "E\n",
    "\"\"\"\n",
    "print(a)"
   ]
  },
  {
   "attachments": {},
   "cell_type": "markdown",
   "metadata": {},
   "source": [
    "### 문자열 Formatting !!\n",
    "\n",
    "예를들어 한명이 들어올 때 마다 현재 인원수를 출력해주는 프로그램이 있음\n",
    "\n",
    "현재 1명\n",
    "\n",
    "현재 2명\n",
    "\n",
    "...\n",
    "\n",
    "그럴 때 마다 print(\"\")안에 있는걸 바꾸긴 귀찮음"
   ]
  },
  {
   "cell_type": "code",
   "execution_count": null,
   "metadata": {},
   "outputs": [],
   "source": [
    "count = 1\n",
    "print(\"현재 1명\")"
   ]
  },
  {
   "cell_type": "code",
   "execution_count": null,
   "metadata": {},
   "outputs": [],
   "source": [
    "count = 3\n",
    "print(\"현재 %d명\" % count)"
   ]
  },
  {
   "cell_type": "code",
   "execution_count": null,
   "metadata": {},
   "outputs": [],
   "source": [
    "# 위 방법 말고도 f 문자열 포매팅이란게 있음!\n",
    "name = '신민섭'\n",
    "height = 180\n",
    "\n",
    "print(f'이름은 {name}이고, 키는 {height}입니다.')"
   ]
  },
  {
   "attachments": {},
   "cell_type": "markdown",
   "metadata": {},
   "source": [
    "## 예제\n",
    "\n",
    "BMI지수 = 체중(kg) / 키(m)의제곱 임.\n",
    "\n",
    "w라는 변수에 체중을 kg단위로 넣고\n",
    "h라는 변수에 키를 cm단위로 넣음.\n",
    "\n"
   ]
  },
  {
   "cell_type": "code",
   "execution_count": null,
   "metadata": {},
   "outputs": [],
   "source": [
    "w = int(input(\"몸무게를 입력하세요(kg):\"))\n",
    "h = int(input(\"키를 입력하세요(cm):\"))\n",
    "\n",
    "h = h/100\n",
    "\n",
    "BMI = w/(h*h)\n",
    "\n",
    "print(f'키는 {h}m이고, 체중은 {w}kg일때\\nBMI지수는 {BMI}입니다.')"
   ]
  },
  {
   "attachments": {},
   "cell_type": "markdown",
   "metadata": {},
   "source": [
    "## 연습문제\n",
    "\n",
    "사각형의 가로를 입력받아 garo에 대입하고 정수형으로 바꾼다.\n",
    "사각형의 세로를 입력받아 sero에 대입하고 정수형으로 바꾼다.\n",
    "\n",
    "area에 가로*세로를 통해 넓이를 대입한 후 아래와 같이 출력하는 프로그램을 만들자.\n",
    "\n",
    "\n",
    "가로는 #이고, 세로는 #일 때\n",
    "\n",
    "넓이는 #입니다."
   ]
  },
  {
   "cell_type": "code",
   "execution_count": null,
   "metadata": {},
   "outputs": [],
   "source": [
    "# 빈칸 채우세여\n",
    "\n",
    "garo = input(\"가로 길이를 입력하세요\")\n",
    "sero = \n",
    "\n",
    "garo =\n",
    "sero = \n",
    "\n",
    "area = \n",
    "\n",
    "print(f'')"
   ]
  }
 ],
 "metadata": {
  "kernelspec": {
   "display_name": "Python 3",
   "language": "python",
   "name": "python3"
  },
  "language_info": {
   "codemirror_mode": {
    "name": "ipython",
    "version": 3
   },
   "file_extension": ".py",
   "mimetype": "text/x-python",
   "name": "python",
   "nbconvert_exporter": "python",
   "pygments_lexer": "ipython3",
   "version": "3.10.5"
  },
  "orig_nbformat": 4
 },
 "nbformat": 4,
 "nbformat_minor": 2
}
