{
 "cells": [
  {
   "attachments": {},
   "cell_type": "markdown",
   "metadata": {},
   "source": [
    "## 함수(function)"
   ]
  },
  {
   "attachments": {},
   "cell_type": "markdown",
   "metadata": {},
   "source": [
    "입력 : x , 출력 : y , 함수 : f(  )\n",
    "\n",
    "y = f(x)"
   ]
  },
  {
   "cell_type": "code",
   "execution_count": null,
   "metadata": {},
   "outputs": [],
   "source": [
    "# 만약 f(x)=y=2x+3이고, x=5일때 y를 구한다면?\n",
    "x = 5\n",
    "def f(input):\n",
    "    output = 2*input+3\n",
    "    return output\n",
    "\n",
    "y = f(x)\n",
    "\n",
    "print(y)"
   ]
  },
  {
   "attachments": {},
   "cell_type": "markdown",
   "metadata": {},
   "source": [
    "output을 사용하지 않아도 가능하다!"
   ]
  },
  {
   "cell_type": "code",
   "execution_count": null,
   "metadata": {},
   "outputs": [],
   "source": [
    "x = 5\n",
    "def f(input):\n",
    "    return 2*input+3\n",
    "\n",
    "print(f(x))"
   ]
  },
  {
   "attachments": {},
   "cell_type": "markdown",
   "metadata": {},
   "source": [
    "return해주는 값이 없어도 가능하다!"
   ]
  },
  {
   "cell_type": "code",
   "execution_count": null,
   "metadata": {},
   "outputs": [],
   "source": [
    "x = 5\n",
    "def f(input):\n",
    "    output = 2*input+3\n",
    "    print(output)\n",
    "\n",
    "f(5)"
   ]
  },
  {
   "attachments": {},
   "cell_type": "markdown",
   "metadata": {},
   "source": [
    "input, return 모두 없어도 된다!"
   ]
  },
  {
   "cell_type": "code",
   "execution_count": null,
   "metadata": {},
   "outputs": [],
   "source": [
    "# Hello라고 출력하는 함수\n",
    "def printhello():\n",
    "    print('Hello')\n",
    "\n",
    "printhello()"
   ]
  },
  {
   "attachments": {},
   "cell_type": "markdown",
   "metadata": {},
   "source": [
    "입력하는 순서를 바꿔도 사용가능하게 가능!"
   ]
  },
  {
   "cell_type": "code",
   "execution_count": null,
   "metadata": {},
   "outputs": [],
   "source": [
    "# 사각형의 높이 = 넓이/가로\n",
    "def rec_height(area,width):\n",
    "    return area/width\n",
    "\n",
    "print(rec_height(6,3))\n",
    "print(rec_height(width=3,area=6)) # 얘처럼!!"
   ]
  },
  {
   "attachments": {},
   "cell_type": "markdown",
   "metadata": {},
   "source": [
    "## 예제\n",
    "\n",
    "근의 공식을 풀어주는 함수 만들기\n",
    "\n",
    "ax^2 + bx + c = 0 일 때, a, b, c를 따로 입력받고\n",
    "\n",
    "x1과 x2를 출력하는 프로그램 만들기"
   ]
  },
  {
   "cell_type": "code",
   "execution_count": null,
   "metadata": {},
   "outputs": [],
   "source": [
    "import math\n",
    "\n",
    "a = float(input(\"2차항의 계수는?\"))\n",
    "b = float(input(\"1차항의 계수는?\"))\n",
    "c = float(input(\"0차항의 계수는?\"))\n",
    "\n",
    "판별식 = b**2 - 4*a*c\n",
    "\n",
    "if 판별식<0:\n",
    "    print(\"허수\")\n",
    "else:\n",
    "    x1 = (-b+math.sqrt(판별식)) / (2*a)\n",
    "    x2 = (-b+math.sqrt(판별식)) / (2*a)\n",
    "\n",
    "print(\"x1 = \",x1)\n",
    "print('x2 = ',x2)"
   ]
  }
 ],
 "metadata": {
  "kernelspec": {
   "display_name": "class",
   "language": "python",
   "name": "python3"
  },
  "language_info": {
   "codemirror_mode": {
    "name": "ipython",
    "version": 3
   },
   "file_extension": ".py",
   "mimetype": "text/x-python",
   "name": "python",
   "nbconvert_exporter": "python",
   "pygments_lexer": "ipython3",
   "version": "3.10.5"
  },
  "orig_nbformat": 4
 },
 "nbformat": 4,
 "nbformat_minor": 2
}
