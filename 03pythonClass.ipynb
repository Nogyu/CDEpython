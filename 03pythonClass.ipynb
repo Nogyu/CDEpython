{
 "cells": [
  {
   "attachments": {},
   "cell_type": "markdown",
   "metadata": {},
   "source": [
    "## 클래스"
   ]
  },
  {
   "attachments": {},
   "cell_type": "markdown",
   "metadata": {},
   "source": [
    "만약 계산기를 만든다고 생각하기!\n",
    "\n",
    "우리가 계산기를 쓸 때 계산기는 이전의 결괏값을 기억함.\n",
    "\n",
    "ex) 계산기 켜서 3+5 엔터 = 8\n",
    "\n",
    "그 상태로 - 누르고 2 엔터 = 6\n",
    "\n",
    "그 상태로 * 누르고 3 엔터 = 18\n"
   ]
  },
  {
   "cell_type": "code",
   "execution_count": null,
   "metadata": {},
   "outputs": [],
   "source": [
    "# 만약 클래스를 사용하지 않고 만들면?\n",
    "\n",
    "result = 0\n",
    "\n",
    "def add(num):\n",
    "    global result # 전역변수 result를 사용한다는 뜻\n",
    "    result += num # result = result + num 을 줄인거\n",
    "    return result\n",
    "\n",
    "print(add(3))\n",
    "print(add(4))"
   ]
  },
  {
   "attachments": {},
   "cell_type": "markdown",
   "metadata": {},
   "source": [
    "만약 계산기가 2대가 필요한 상황이라면?\n",
    "\n",
    "ex) 50원, 100원, 500원 동전의 총 개수와 총 금액을 구할 때 처럼"
   ]
  },
  {
   "cell_type": "code",
   "execution_count": null,
   "metadata": {},
   "outputs": [],
   "source": [
    "result1 = 0\n",
    "result2 = 0\n",
    "\n",
    "def add1(num):\n",
    "    global result1\n",
    "    result1 += num\n",
    "    return result1\n",
    "\n",
    "def add2(num):\n",
    "    global result2\n",
    "    result2 += num\n",
    "    return result2\n",
    "\n",
    "print(\"계산기1번 :\", add1(3))\n",
    "print(\"계산기1번 :\", add1(4))\n",
    "print(\"계산기2번 :\", add2(3))\n",
    "print(\"계산기2번 :\", add2(7))"
   ]
  },
  {
   "attachments": {},
   "cell_type": "markdown",
   "metadata": {},
   "source": [
    "만약 계산기의 개수가 늘어나는 상황이라면 계속 result랑 add함수 개수를 늘려줘야함. 매우 비효율적!"
   ]
  },
  {
   "cell_type": "code",
   "execution_count": null,
   "metadata": {},
   "outputs": [],
   "source": [
    "class Calculator:\n",
    "    def __init__(self): ## 생성자\n",
    "        self.result = 0 ## 초기화\n",
    "\n",
    "    def add(self, num): ## 메서드\n",
    "        self.result += num\n",
    "        return self.result\n",
    "    \n",
    "cal1 = Calculator() # Calculator라는 틀로\n",
    "cal2 = Calculator() # cal1, cal2라는 객체\n",
    "\n",
    "print(cal1.add(3))\n",
    "print(cal1.add(4))\n",
    "print(cal2.add(3))\n",
    "print(cal2.add(7))"
   ]
  },
  {
   "attachments": {},
   "cell_type": "markdown",
   "metadata": {},
   "source": [
    "### 클래스의 속성!!"
   ]
  },
  {
   "cell_type": "code",
   "execution_count": null,
   "metadata": {},
   "outputs": [],
   "source": [
    "class Player:\n",
    "    strength = 10\n",
    "\n",
    "민섭 = Player()\n",
    "print(민섭.strength)\n",
    "\n",
    "찬수 = Player()\n",
    "찬수.strength = 20\n",
    "print(찬수.strength)"
   ]
  },
  {
   "cell_type": "code",
   "execution_count": null,
   "metadata": {},
   "outputs": [],
   "source": [
    "class student:\n",
    "    major = '기시디'\n",
    "    score = ''\n",
    "\n",
    "    def __init__(self, score):\n",
    "        self.score = score\n",
    "\n",
    "영학 = student('A+')\n",
    "진우 = student('C0')\n",
    "\n",
    "print(영학.major)\n",
    "print(진우.major)\n",
    "print(영학.score)\n",
    "print(진우.score)"
   ]
  },
  {
   "cell_type": "code",
   "execution_count": null,
   "metadata": {},
   "outputs": [],
   "source": [
    "class student:\n",
    "    major = '기시디'\n",
    "\n",
    "### 생성자로, 객체는 score라는 속성을 가짐\n",
    "    def __init__(self, score):\n",
    "        self.score = score\n",
    "\n",
    "### 메서드 호출 시 내 성적 print\n",
    "    def say_score(self):\n",
    "        print(self.score)\n",
    "\n",
    "### 매개변수로 받은 숫자 만큼 자신의 전공을 print\n",
    "    def echo_major(self, number):\n",
    "        print(self.major*number)\n",
    "\n",
    "    \n",
    "\n",
    "영학 = student('A+')\n",
    "\n",
    "영학.say_score()\n",
    "\n",
    "영학.echo_major(3)"
   ]
  },
  {
   "attachments": {},
   "cell_type": "markdown",
   "metadata": {},
   "source": [
    "객체를 생성할 때 매개변수를 다양하게 줄 수 있음.\n",
    "\n",
    "a = student()\n",
    "\n",
    "a = studnet(age=20)\n",
    "\n",
    "a = studnet(age=20, name='민섭')\n",
    "\n",
    "a = studnet(phone_number = '01012345678')\n",
    "\n",
    "등등"
   ]
  },
  {
   "cell_type": "code",
   "execution_count": null,
   "metadata": {},
   "outputs": [],
   "source": [
    "class student:\n",
    "    def __init__(self, age, name, mbti, phone_number):\n",
    "        self.age = age\n",
    "        self.name = name\n",
    "        self.mbti = mbti\n",
    "        self.phone_number = phone_number\n",
    "\n",
    "a = student()"
   ]
  },
  {
   "cell_type": "code",
   "execution_count": null,
   "metadata": {},
   "outputs": [],
   "source": [
    "class student:\n",
    "    def __init__(self, age=None, name=None, mbti=None, phone_number=None):\n",
    "        self.age = age\n",
    "        self.name = name\n",
    "        self.mbti = mbti\n",
    "        self.phone_number = phone_number\n",
    "\n",
    "a = student()"
   ]
  }
 ],
 "metadata": {
  "kernelspec": {
   "display_name": "Python 3",
   "language": "python",
   "name": "python3"
  },
  "language_info": {
   "codemirror_mode": {
    "name": "ipython",
    "version": 3
   },
   "file_extension": ".py",
   "mimetype": "text/x-python",
   "name": "python",
   "nbconvert_exporter": "python",
   "pygments_lexer": "ipython3",
   "version": "3.10.5"
  },
  "orig_nbformat": 4
 },
 "nbformat": 4,
 "nbformat_minor": 2
}
